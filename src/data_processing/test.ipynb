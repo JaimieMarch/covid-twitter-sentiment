{
 "cells": [
  {
   "cell_type": "code",
   "execution_count": 6,
   "metadata": {},
   "outputs": [
    {
     "data": {
      "text/html": [
       "<div>\n",
       "<style scoped>\n",
       "    .dataframe tbody tr th:only-of-type {\n",
       "        vertical-align: middle;\n",
       "    }\n",
       "\n",
       "    .dataframe tbody tr th {\n",
       "        vertical-align: top;\n",
       "    }\n",
       "\n",
       "    .dataframe thead th {\n",
       "        text-align: right;\n",
       "    }\n",
       "</style>\n",
       "<table border=\"1\" class=\"dataframe\">\n",
       "  <thead>\n",
       "    <tr style=\"text-align: right;\">\n",
       "      <th></th>\n",
       "      <th>text</th>\n",
       "      <th>dup</th>\n",
       "    </tr>\n",
       "  </thead>\n",
       "  <tbody>\n",
       "    <tr>\n",
       "      <th>0</th>\n",
       "      <td>Enter for a chance to get 750 Visa! Are you li...</td>\n",
       "      <td>hello</td>\n",
       "    </tr>\n",
       "  </tbody>\n",
       "</table>\n",
       "</div>"
      ],
      "text/plain": [
       "                                                text    dup\n",
       "0  Enter for a chance to get 750 Visa! Are you li...  hello"
      ]
     },
     "metadata": {},
     "output_type": "display_data"
    }
   ],
   "source": [
    "import pandas as pd\n",
    "\n",
    "data = {\n",
    "    'text' : [\n",
    "        'Enter for a chance to get 750 Visa! Are you lives in the USA:United_States:?? Yes! You can eligible to get this offer!! its promotions campaign  limited time for you!! So hurry to go below the link:backhand_index_pointing_right: Fortnite FortniteChapter3 CovidVaccine visa gifs',\n",
    "        'Enter for a chance to get 750 Visa! Are you lives in the USA:United_States:?? Yes! You can eligible to get this offer!! its promotions campaign  limited time for you!! So hurry to go below the link:backhand_index_pointing_right: Fortnite FortniteChapter3 CovidVaccine visa gifs',\n",
    "        'Enter for a chance to get 750 Visa! Are you lives in the USA:United_States:?? Yes! You can eligible to get this offer!! its promotions campaign  limited time for you!! So hurry to go below the link:backhand_index_pointing_right: Fortnite FortniteChapter3 CovidVaccine visa gifs',\n",
    "        'Enter for a chance to get 750 Visa! Are you lives in the USA:United_States:?? Yes! You can eligible to get this offer!! its promotions campaign  limited time for you!! So hurry to go below the link:backhand_index_pointing_right: Fortnite FortniteChapter3 CovidVaccine visa gifs',\n",
    "        'Enter for a chance to get 750 Visa! Are you lives in the USA:United_States:?? Yes! You can eligible to get this offer!! its promotions campaign  limited time for you!! So hurry to go below the link:backhand_index_pointing_right: Fortnite FortniteChapter3 CovidVaccine visa gifs',\n",
    "        'Enter for a chance to get 750 Visa! Are you lives in the USA:United_States:?? Yes! You can eligible to get this offer!! its promotions campaign  limited time for you!! So hurry to go below the link:backhand_index_pointing_right: Fortnite FortniteChapter3 CovidVaccine visa gifs',\n",
    "        'Enter for a chance to get 750 Visa! Are you lives in the USA:United_States:?? Yes! You can eligible to get this offer!! its promotions campaign  limited time for you!! So hurry to go below the link:backhand_index_pointing_right: Fortnite FortniteChapter3 CovidVaccine visa gifs',\n",
    "        'Enter for a chance to get 750 Visa! Are you lives in the USA:United_States:?? Yes! You can eligible to get this offer!! its promotions campaign  limited time for you!! So hurry to go below the link:backhand_index_pointing_right: Fortnite FortniteChapter3 CovidVaccine visa gifs',\n",
    "    ],\n",
    "    'dup' : [\n",
    "        \"hello\",\n",
    "        \"hello\",\n",
    "        \"hello\",\n",
    "        \"hello\",\n",
    "        \"hello\",\n",
    "        \"hello\",\n",
    "        \"hello\",\n",
    "        \"nruh\",\n",
    "    ]\n",
    "}\n",
    "\n",
    "\n",
    "df = pd.DataFrame(data)\n",
    "display(df.drop_duplicates(subset='text'))\n",
    "\n",
    "\n",
    "\n"
   ]
  }
 ],
 "metadata": {
  "kernelspec": {
   "display_name": ".venv",
   "language": "python",
   "name": "python3"
  },
  "language_info": {
   "codemirror_mode": {
    "name": "ipython",
    "version": 3
   },
   "file_extension": ".py",
   "mimetype": "text/x-python",
   "name": "python",
   "nbconvert_exporter": "python",
   "pygments_lexer": "ipython3",
   "version": "3.10.12"
  }
 },
 "nbformat": 4,
 "nbformat_minor": 2
}
