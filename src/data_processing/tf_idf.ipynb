{
 "cells": [
  {
   "cell_type": "code",
   "execution_count": 2,
   "metadata": {},
   "outputs": [],
   "source": [
    "import matplotlib.pyplot as plt\n",
    "import plotly\n",
    "from pathlib import Path\n",
    "import sys\n",
    "import os\n",
    "import folium\n",
    "from folium.plugins import HeatMap\n",
    "from geopy.geocoders import Nominatim\n",
    "sys.path.append(os.path.abspath(os.path.join(os.getcwd(), '..')))\n",
    "\n",
    "from database import database_manager as dbm\n",
    "\n",
    "geolocator = Nominatim(user_agent=\"geoapiExercises\")\n",
    "\n",
    "# queries database to get the table data\n",
    "def get_sentiment_data(table):\n",
    "    print(f\"Retrieving {table} table...\")\n",
    "    \n",
    "    # Tables in DB:\n",
    "    # table = \"raw_twitter_data\"\n",
    "    # table = \"processed_twitter_data\"\n",
    "    # table = \"sentiment_scores\"\n",
    "    \n",
    "    query = f\"\"\"\n",
    "        SELECT * \n",
    "        FROM \"{table}\" \n",
    "    \"\"\"\n",
    "    df = dbm.query_db(query)\n",
    "    return df"
   ]
  },
  {
   "cell_type": "code",
   "execution_count": 3,
   "metadata": {},
   "outputs": [
    {
     "name": "stdout",
     "output_type": "stream",
     "text": [
      "Retrieving tfidf_results_1 table...\n"
     ]
    }
   ],
   "source": [
    "tf_idf_df = get_sentiment_data(\"tfidf_results_1\")"
   ]
  },
  {
   "cell_type": "code",
   "execution_count": 4,
   "metadata": {},
   "outputs": [
    {
     "data": {
      "text/html": [
       "<div>\n",
       "<style scoped>\n",
       "    .dataframe tbody tr th:only-of-type {\n",
       "        vertical-align: middle;\n",
       "    }\n",
       "\n",
       "    .dataframe tbody tr th {\n",
       "        vertical-align: top;\n",
       "    }\n",
       "\n",
       "    .dataframe thead th {\n",
       "        text-align: right;\n",
       "    }\n",
       "</style>\n",
       "<table border=\"1\" class=\"dataframe\">\n",
       "  <thead>\n",
       "    <tr style=\"text-align: right;\">\n",
       "      <th></th>\n",
       "      <th>tweet_id</th>\n",
       "      <th>term</th>\n",
       "      <th>tfidf_score</th>\n",
       "      <th>rank</th>\n",
       "    </tr>\n",
       "  </thead>\n",
       "  <tbody>\n",
       "    <tr>\n",
       "      <th>0</th>\n",
       "      <td>1</td>\n",
       "      <td>prime</td>\n",
       "      <td>0.500229</td>\n",
       "      <td>1</td>\n",
       "    </tr>\n",
       "    <tr>\n",
       "      <th>1</th>\n",
       "      <td>1</td>\n",
       "      <td>cost</td>\n",
       "      <td>0.478771</td>\n",
       "      <td>2</td>\n",
       "    </tr>\n",
       "    <tr>\n",
       "      <th>2</th>\n",
       "      <td>1</td>\n",
       "      <td>australia</td>\n",
       "      <td>0.430155</td>\n",
       "      <td>3</td>\n",
       "    </tr>\n",
       "    <tr>\n",
       "      <th>3</th>\n",
       "      <td>1</td>\n",
       "      <td>minister</td>\n",
       "      <td>0.420804</td>\n",
       "      <td>4</td>\n",
       "    </tr>\n",
       "    <tr>\n",
       "      <th>4</th>\n",
       "      <td>1</td>\n",
       "      <td>covid19</td>\n",
       "      <td>0.258287</td>\n",
       "      <td>5</td>\n",
       "    </tr>\n",
       "  </tbody>\n",
       "</table>\n",
       "</div>"
      ],
      "text/plain": [
       "   tweet_id       term  tfidf_score  rank\n",
       "0         1      prime     0.500229     1\n",
       "1         1       cost     0.478771     2\n",
       "2         1  australia     0.430155     3\n",
       "3         1   minister     0.420804     4\n",
       "4         1    covid19     0.258287     5"
      ]
     },
     "execution_count": 4,
     "metadata": {},
     "output_type": "execute_result"
    }
   ],
   "source": [
    "tf_idf_df.head()\n"
   ]
  },
  {
   "cell_type": "code",
   "execution_count": 18,
   "metadata": {},
   "outputs": [],
   "source": [
    "# Filter out terms with low tf-idf scores\n",
    "tf_idf_df = tf_idf_df[tf_idf_df[\"tfidf_score\"] > 0.1]"
   ]
  },
  {
   "cell_type": "code",
   "execution_count": 19,
   "metadata": {},
   "outputs": [],
   "source": [
    "# Only include the top tfidf word per tweet (there is multuiplte terms per tweet id, only include the top one)\n",
    "tf_idf_df = tf_idf_df.groupby(\"tweet_id\").first().reset_index()\n"
   ]
  },
  {
   "cell_type": "code",
   "execution_count": 20,
   "metadata": {},
   "outputs": [
    {
     "name": "stdout",
     "output_type": "stream",
     "text": [
      "Number of duplicate tweet ids: 0\n"
     ]
    }
   ],
   "source": [
    "#check for duplicates in the tweet_id column\n",
    "print(f\"Number of duplicate tweet ids: {tf_idf_df.duplicated(subset=['tweet_id']).sum()}\")"
   ]
  },
  {
   "cell_type": "code",
   "execution_count": 30,
   "metadata": {},
   "outputs": [
    {
     "name": "stdout",
     "output_type": "stream",
     "text": [
      "Retrieving sentiment_scores_df table...\n"
     ]
    }
   ],
   "source": [
    "df_sentiment = get_sentiment_data(\"sentiment_scores_df\")"
   ]
  },
  {
   "cell_type": "code",
   "execution_count": null,
   "metadata": {},
   "outputs": [],
   "source": [
    "df_sentiment.head()"
   ]
  },
  {
   "cell_type": "code",
   "execution_count": null,
   "metadata": {},
   "outputs": [],
   "source": [
    "# Merge the sentiment scores with the top terms with sentiment df being id, and top terms being tweet_id\n",
    "df_sentiment = df_sentiment.merge(tf_idf_df, left_on=\"id\", right_on=\"tweet_id\")"
   ]
  },
  {
   "cell_type": "code",
   "execution_count": 21,
   "metadata": {},
   "outputs": [],
   "source": [
    "# List of terms to exclude\n",
    "exclude_terms = [\"covidvaccine\", \"covid19\", \"covid\", \"vaccine\"]\n",
    "\n",
    "# Filter out the rows where the 'term' column matches any of the terms in the exclude_terms list\n",
    "tf_idf_df = tf_idf_df[~tf_idf_df[\"term\"].isin(exclude_terms)]\n"
   ]
  },
  {
   "cell_type": "code",
   "execution_count": 22,
   "metadata": {},
   "outputs": [],
   "source": [
    "# Get the top 10 terms\n",
    "top_terms = tf_idf_df.sort_values(by=\"tfidf_score\", ascending=False).head(10)"
   ]
  },
  {
   "cell_type": "code",
   "execution_count": 23,
   "metadata": {},
   "outputs": [
    {
     "name": "stdout",
     "output_type": "stream",
     "text": [
      "       tweet_id       term  tfidf_score  rank\n",
      "2620       2699     office          1.0     1\n",
      "12812     13211    welcome          1.0     1\n",
      "94526     97357      great          1.0     1\n",
      "60965     62799      false          1.0     1\n",
      "12843     13246      daily          1.0     1\n",
      "83097     85548      check          1.0     1\n",
      "49282     50801    awesome          1.0     1\n",
      "60916     62747  hopefully          1.0     1\n",
      "10608     10946     school          1.0     1\n",
      "25924     26742       fast          1.0     1\n"
     ]
    }
   ],
   "source": [
    "print(top_terms)"
   ]
  },
  {
   "cell_type": "code",
   "execution_count": 24,
   "metadata": {},
   "outputs": [],
   "source": [
    "# Filter out words that say \"covidvaccine\" or \"covid19\"\n",
    "top_terms = top_terms[~top_terms[\"term\"].str.contains(\"covidvaccine\")]"
   ]
  },
  {
   "cell_type": "code",
   "execution_count": 11,
   "metadata": {},
   "outputs": [
    {
     "name": "stdout",
     "output_type": "stream",
     "text": [
      "        tweet_id   term  tfidf_score  rank\n",
      "199966     47623  trump          1.0     1\n"
     ]
    }
   ],
   "source": [
    "print(top_terms)"
   ]
  },
  {
   "cell_type": "code",
   "execution_count": null,
   "metadata": {},
   "outputs": [],
   "source": [
    "# Only include the top tfidf word per tweet\n"
   ]
  },
  {
   "cell_type": "code",
   "execution_count": 27,
   "metadata": {},
   "outputs": [],
   "source": [
    "# Merge the sentiment scores with the top terms with sentiment df being id, and top terms being tweet_id\n",
    "df_sentiment = df_sentiment.merge(top_terms, left_on=\"id\", right_on=\"tweet_id\")"
   ]
  },
  {
   "cell_type": "code",
   "execution_count": 28,
   "metadata": {},
   "outputs": [
    {
     "data": {
      "text/html": [
       "<div>\n",
       "<style scoped>\n",
       "    .dataframe tbody tr th:only-of-type {\n",
       "        vertical-align: middle;\n",
       "    }\n",
       "\n",
       "    .dataframe tbody tr th {\n",
       "        vertical-align: top;\n",
       "    }\n",
       "\n",
       "    .dataframe thead th {\n",
       "        text-align: right;\n",
       "    }\n",
       "</style>\n",
       "<table border=\"1\" class=\"dataframe\">\n",
       "  <thead>\n",
       "    <tr style=\"text-align: right;\">\n",
       "      <th></th>\n",
       "      <th>id</th>\n",
       "      <th>user_name</th>\n",
       "      <th>user_location</th>\n",
       "      <th>user_description</th>\n",
       "      <th>user_created</th>\n",
       "      <th>user_followers</th>\n",
       "      <th>user_friends</th>\n",
       "      <th>user_favourites</th>\n",
       "      <th>user_verified</th>\n",
       "      <th>date</th>\n",
       "      <th>...</th>\n",
       "      <th>is_retweet</th>\n",
       "      <th>compound</th>\n",
       "      <th>neg</th>\n",
       "      <th>neu</th>\n",
       "      <th>pos</th>\n",
       "      <th>tweet</th>\n",
       "      <th>tweet_id</th>\n",
       "      <th>term</th>\n",
       "      <th>tfidf_score</th>\n",
       "      <th>rank</th>\n",
       "    </tr>\n",
       "  </thead>\n",
       "  <tbody>\n",
       "    <tr>\n",
       "      <th>0</th>\n",
       "      <td>2699</td>\n",
       "      <td>🐾 Catt Stone</td>\n",
       "      <td>Californian, USA</td>\n",
       "      <td>Part-timer ▪ H2O lover ▪ Tech Editor ▪ Smile n...</td>\n",
       "      <td>2016-05-21</td>\n",
       "      <td>543</td>\n",
       "      <td>500</td>\n",
       "      <td>11598</td>\n",
       "      <td>False</td>\n",
       "      <td>2020-12-31</td>\n",
       "      <td>...</td>\n",
       "      <td>False</td>\n",
       "      <td>0.5983</td>\n",
       "      <td>0.136</td>\n",
       "      <td>0.509</td>\n",
       "      <td>0.356</td>\n",
       "      <td>I got my CovidVaccine!  smiling face with smil...</td>\n",
       "      <td>2699</td>\n",
       "      <td>office</td>\n",
       "      <td>1.0</td>\n",
       "      <td>1</td>\n",
       "    </tr>\n",
       "    <tr>\n",
       "      <th>1</th>\n",
       "      <td>10946</td>\n",
       "      <td>Julia No</td>\n",
       "      <td>Ontario</td>\n",
       "      <td>Love to laugh, my family, #books, #music, #out...</td>\n",
       "      <td>2021-01-23</td>\n",
       "      <td>30</td>\n",
       "      <td>227</td>\n",
       "      <td>200</td>\n",
       "      <td>False</td>\n",
       "      <td>2021-01-25</td>\n",
       "      <td>...</td>\n",
       "      <td>False</td>\n",
       "      <td>0.4404</td>\n",
       "      <td>0.000</td>\n",
       "      <td>0.508</td>\n",
       "      <td>0.492</td>\n",
       "      <td>That's good news CovidVaccine</td>\n",
       "      <td>10946</td>\n",
       "      <td>school</td>\n",
       "      <td>1.0</td>\n",
       "      <td>1</td>\n",
       "    </tr>\n",
       "    <tr>\n",
       "      <th>2</th>\n",
       "      <td>13211</td>\n",
       "      <td>National Law Review</td>\n",
       "      <td>Chicago, IL &amp; Denver, CO</td>\n",
       "      <td>Each month over 2 million legal &amp; business pro...</td>\n",
       "      <td>2009-07-10</td>\n",
       "      <td>34557</td>\n",
       "      <td>3606</td>\n",
       "      <td>4274</td>\n",
       "      <td>True</td>\n",
       "      <td>2021-01-20</td>\n",
       "      <td>...</td>\n",
       "      <td>False</td>\n",
       "      <td>0.0000</td>\n",
       "      <td>0.000</td>\n",
       "      <td>1.000</td>\n",
       "      <td>0.000</td>\n",
       "      <td>Government Lightens Enforcement of HIPAA Rules...</td>\n",
       "      <td>13211</td>\n",
       "      <td>welcome</td>\n",
       "      <td>1.0</td>\n",
       "      <td>1</td>\n",
       "    </tr>\n",
       "    <tr>\n",
       "      <th>3</th>\n",
       "      <td>13246</td>\n",
       "      <td>Page Lie</td>\n",
       "      <td>San Francisco, CA</td>\n",
       "      <td>She/Her, Registered Nurse, Mom &amp; Wife #Dissent...</td>\n",
       "      <td>2011-10-19</td>\n",
       "      <td>4540</td>\n",
       "      <td>4997</td>\n",
       "      <td>72186</td>\n",
       "      <td>False</td>\n",
       "      <td>2021-01-20</td>\n",
       "      <td>...</td>\n",
       "      <td>False</td>\n",
       "      <td>-0.5255</td>\n",
       "      <td>0.326</td>\n",
       "      <td>0.674</td>\n",
       "      <td>0.000</td>\n",
       "      <td>Hey UCSF this is terrible! COVIDVaccine NurseT...</td>\n",
       "      <td>13246</td>\n",
       "      <td>daily</td>\n",
       "      <td>1.0</td>\n",
       "      <td>1</td>\n",
       "    </tr>\n",
       "    <tr>\n",
       "      <th>4</th>\n",
       "      <td>26742</td>\n",
       "      <td>John Kanelis</td>\n",
       "      <td>Princeton, Texas</td>\n",
       "      <td>Husband, father, grandfather, veteran, blogger...</td>\n",
       "      <td>2011-06-15</td>\n",
       "      <td>886</td>\n",
       "      <td>1187</td>\n",
       "      <td>870</td>\n",
       "      <td>False</td>\n",
       "      <td>2021-02-20</td>\n",
       "      <td>...</td>\n",
       "      <td>False</td>\n",
       "      <td>0.6369</td>\n",
       "      <td>0.000</td>\n",
       "      <td>0.625</td>\n",
       "      <td>0.375</td>\n",
       "      <td>I love being a statistic  via jkanelis VA pand...</td>\n",
       "      <td>26742</td>\n",
       "      <td>fast</td>\n",
       "      <td>1.0</td>\n",
       "      <td>1</td>\n",
       "    </tr>\n",
       "  </tbody>\n",
       "</table>\n",
       "<p>5 rows × 23 columns</p>\n",
       "</div>"
      ],
      "text/plain": [
       "      id            user_name             user_location  \\\n",
       "0   2699         🐾 Catt Stone          Californian, USA   \n",
       "1  10946             Julia No                   Ontario   \n",
       "2  13211  National Law Review  Chicago, IL & Denver, CO   \n",
       "3  13246             Page Lie         San Francisco, CA   \n",
       "4  26742         John Kanelis          Princeton, Texas   \n",
       "\n",
       "                                    user_description user_created  \\\n",
       "0  Part-timer ▪ H2O lover ▪ Tech Editor ▪ Smile n...   2016-05-21   \n",
       "1  Love to laugh, my family, #books, #music, #out...   2021-01-23   \n",
       "2  Each month over 2 million legal & business pro...   2009-07-10   \n",
       "3  She/Her, Registered Nurse, Mom & Wife #Dissent...   2011-10-19   \n",
       "4  Husband, father, grandfather, veteran, blogger...   2011-06-15   \n",
       "\n",
       "   user_followers  user_friends  user_favourites user_verified        date  \\\n",
       "0             543           500            11598         False  2020-12-31   \n",
       "1              30           227              200         False  2021-01-25   \n",
       "2           34557          3606             4274          True  2021-01-20   \n",
       "3            4540          4997            72186         False  2021-01-20   \n",
       "4             886          1187              870         False  2021-02-20   \n",
       "\n",
       "   ... is_retweet compound    neg    neu    pos  \\\n",
       "0  ...      False   0.5983  0.136  0.509  0.356   \n",
       "1  ...      False   0.4404  0.000  0.508  0.492   \n",
       "2  ...      False   0.0000  0.000  1.000  0.000   \n",
       "3  ...      False  -0.5255  0.326  0.674  0.000   \n",
       "4  ...      False   0.6369  0.000  0.625  0.375   \n",
       "\n",
       "                                               tweet  tweet_id     term  \\\n",
       "0  I got my CovidVaccine!  smiling face with smil...      2699   office   \n",
       "1                     That's good news CovidVaccine      10946   school   \n",
       "2  Government Lightens Enforcement of HIPAA Rules...     13211  welcome   \n",
       "3  Hey UCSF this is terrible! COVIDVaccine NurseT...     13246    daily   \n",
       "4  I love being a statistic  via jkanelis VA pand...     26742     fast   \n",
       "\n",
       "  tfidf_score  rank  \n",
       "0         1.0     1  \n",
       "1         1.0     1  \n",
       "2         1.0     1  \n",
       "3         1.0     1  \n",
       "4         1.0     1  \n",
       "\n",
       "[5 rows x 23 columns]"
      ]
     },
     "execution_count": 28,
     "metadata": {},
     "output_type": "execute_result"
    }
   ],
   "source": [
    "df_sentiment.head()"
   ]
  }
 ],
 "metadata": {
  "kernelspec": {
   "display_name": "Python 3",
   "language": "python",
   "name": "python3"
  },
  "language_info": {
   "codemirror_mode": {
    "name": "ipython",
    "version": 3
   },
   "file_extension": ".py",
   "mimetype": "text/x-python",
   "name": "python",
   "nbconvert_exporter": "python",
   "pygments_lexer": "ipython3",
   "version": "3.12.2"
  }
 },
 "nbformat": 4,
 "nbformat_minor": 2
}
